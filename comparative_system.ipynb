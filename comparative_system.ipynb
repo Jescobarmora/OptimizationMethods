{
 "cells": [
  {
   "cell_type": "code",
   "execution_count": 12,
   "metadata": {},
   "outputs": [],
   "source": [
    "import numpy as np\n",
    "import pandas as pd\n",
    "import matplotlib.pyplot as plt"
   ]
  },
  {
   "cell_type": "code",
   "execution_count": 13,
   "metadata": {},
   "outputs": [],
   "source": [
    "# Definir la función de pérdida\n",
    "def loss_func(theta):\n",
    "    x, y = theta\n",
    "    R = np.sqrt(x**2 + y**2)\n",
    "    return -np.sin(R)"
   ]
  },
  {
   "cell_type": "code",
   "execution_count": 14,
   "metadata": {},
   "outputs": [],
   "source": [
    "# Definir el gradiente de la función de pérdida\n",
    "def evaluate_gradient(theta):\n",
    "    x, y = theta\n",
    "    R = np.sqrt(x**2 + y**2) + 1e-8  # Agregar epsilon para evitar división por cero\n",
    "    grad_x = -np.cos(R) * (x / R)\n",
    "    grad_y = -np.cos(R) * (y / R)\n",
    "    return np.array([grad_x, grad_y])"
   ]
  },
  {
   "cell_type": "code",
   "execution_count": 15,
   "metadata": {},
   "outputs": [],
   "source": [
    "# 1. Gradiente Descendente\n",
    "def gradient_descent(theta_init, loss_func, evaluate_gradient, eta, epochs):\n",
    "    theta = theta_init.copy()\n",
    "    for _ in range(epochs):\n",
    "        gradient = evaluate_gradient(theta)\n",
    "        theta -= eta * gradient\n",
    "    return theta"
   ]
  },
  {
   "cell_type": "code",
   "execution_count": 16,
   "metadata": {},
   "outputs": [],
   "source": [
    "# 2. Gradiente Descendente Estocástico (SGD)\n",
    "def stochastic_gradient_descent(theta_init, data_train, loss_func, evaluate_gradient, eta, epochs):\n",
    "    theta = theta_init.copy()\n",
    "    for _ in range(epochs):\n",
    "        np.random.shuffle(data_train)\n",
    "        for x_i in data_train:\n",
    "            gradient = evaluate_gradient(theta)\n",
    "            theta -= eta * gradient\n",
    "    return theta"
   ]
  },
  {
   "cell_type": "code",
   "execution_count": 17,
   "metadata": {},
   "outputs": [],
   "source": [
    "# 3. RMSPROP\n",
    "def rmsprop(theta_init, data_train, loss_func, evaluate_gradient, eta, epochs, decay=0.9, epsilon=1e-8):\n",
    "    theta = theta_init.copy()\n",
    "    Eg2 = np.zeros_like(theta)\n",
    "    for _ in range(epochs):\n",
    "        np.random.shuffle(data_train)\n",
    "        for x_i in data_train:\n",
    "            gradient = evaluate_gradient(theta)\n",
    "            Eg2 = decay * Eg2 + (1 - decay) * gradient**2\n",
    "            theta -= (eta / (np.sqrt(Eg2) + epsilon)) * gradient\n",
    "    return theta"
   ]
  },
  {
   "cell_type": "code",
   "execution_count": 18,
   "metadata": {},
   "outputs": [],
   "source": [
    "# 4. Adam\n",
    "def adam(theta_init, data_train, loss_func, evaluate_gradient, eta, epochs, beta1=0.9, beta2=0.999, epsilon=1e-8):\n",
    "    theta = theta_init.copy()\n",
    "    m = np.zeros_like(theta)\n",
    "    v = np.zeros_like(theta)\n",
    "    t = 0\n",
    "    for _ in range(epochs):\n",
    "        np.random.shuffle(data_train)\n",
    "        for x_i in data_train:\n",
    "            t += 1\n",
    "            gradient = evaluate_gradient(theta)\n",
    "            m = beta1 * m + (1 - beta1) * gradient\n",
    "            v = beta2 * v + (1 - beta2) * gradient**2\n",
    "            m_hat = m / (1 - beta1**t)\n",
    "            v_hat = v / (1 - beta2**t)\n",
    "            theta -= (eta / (np.sqrt(v_hat) + epsilon)) * m_hat\n",
    "    return theta"
   ]
  },
  {
   "cell_type": "code",
   "execution_count": 19,
   "metadata": {},
   "outputs": [],
   "source": [
    "# Configuración del experimento\n",
    "num_iterations = 10000  # Número de iteraciones del experimento\n",
    "methods = ['Gradient Descent', 'Stochastic Gradient Descent', 'RMSPROP', 'Adam']\n",
    "results = {'Method': [], 'Distance': []}\n",
    "\n",
    "# Datos de entrenamiento (no se usan realmente en esta función, pero los incluimos para consistencia)\n",
    "n_points = 1  # Solo necesitamos un punto para SGD, RMSPROP y Adam\n",
    "data_train = [np.array([0, 0])]  # Punto ficticio\n",
    "\n",
    "# Parámetros comunes\n",
    "eta = 0.01  # Tasa de aprendizaje\n",
    "epochs = 1  # Número de épocas (iteraciones internas)"
   ]
  },
  {
   "cell_type": "code",
   "execution_count": 20,
   "metadata": {},
   "outputs": [],
   "source": [
    "\n",
    "# Ejecutar el experimento\n",
    "for _ in range(num_iterations):\n",
    "    # Generar un punto inicial aleatorio en el rango [-6.5, 6.5]\n",
    "    theta_init = np.random.uniform(-6.5, 6.5, 2)\n",
    "    \n",
    "    # Almacenar las distancias para cada método en esta iteración\n",
    "    distances = {}\n",
    "    \n",
    "    # Gradiente Descendente\n",
    "    theta_gd = gradient_descent(theta_init, loss_func, evaluate_gradient, eta, epochs=100)\n",
    "    dist_gd = np.linalg.norm(theta_gd - np.array([0, 0]))\n",
    "    distances['Gradient Descent'] = dist_gd\n",
    "    \n",
    "    # Gradiente Descendente Estocástico\n",
    "    theta_sgd = stochastic_gradient_descent(theta_init, data_train, loss_func, evaluate_gradient, eta, epochs=100)\n",
    "    dist_sgd = np.linalg.norm(theta_sgd - np.array([0, 0]))\n",
    "    distances['Stochastic Gradient Descent'] = dist_sgd\n",
    "    \n",
    "    # RMSPROP\n",
    "    theta_rmsprop = rmsprop(theta_init, data_train, loss_func, evaluate_gradient, eta, epochs=100)\n",
    "    dist_rmsprop = np.linalg.norm(theta_rmsprop - np.array([0, 0]))\n",
    "    distances['RMSPROP'] = dist_rmsprop\n",
    "    \n",
    "    # Adam\n",
    "    theta_adam = adam(theta_init, data_train, loss_func, evaluate_gradient, eta, epochs=100)\n",
    "    dist_adam = np.linalg.norm(theta_adam - np.array([0, 0]))\n",
    "    distances['Adam'] = dist_adam\n",
    "    \n",
    "    # Determinar el método con la menor distancia en esta iteración\n",
    "    best_method = min(distances, key=distances.get)\n",
    "    \n",
    "    # Almacenar los resultados\n",
    "    results['Method'].append(best_method)\n",
    "    results['Distance'].append(distances[best_method])\n",
    "\n",
    "# Convertir los resultados a un DataFrame\n",
    "results_df = pd.DataFrame(results)"
   ]
  },
  {
   "cell_type": "code",
   "execution_count": 21,
   "metadata": {},
   "outputs": [
    {
     "name": "stdout",
     "output_type": "stream",
     "text": [
      "Distancias promedio al punto (0,0) por método:\n",
      "Method\n",
      "Adam                3.438224\n",
      "Gradient Descent    6.334317\n",
      "RMSPROP             2.612417\n",
      "Name: Distance, dtype: float64\n",
      "\n",
      "Tabla de frecuencias (absoluta y relativa) de los mejores métodos:\n",
      "             Method  Absolute Frequency  Relative Frequency (%)\n",
      "0  Gradient Descent                5884                   58.84\n",
      "1           RMSPROP                2937                   29.37\n",
      "2              Adam                1179                   11.79\n"
     ]
    }
   ],
   "source": [
    "# Calcular la distancia promedio para cada método\n",
    "average_distances = results_df.groupby('Method')['Distance'].mean()\n",
    "print(\"Distancias promedio al punto (0,0) por método:\")\n",
    "print(average_distances)\n",
    "\n",
    "# Contar la frecuencia con la que cada método fue el mejor\n",
    "frequency_table = results_df['Method'].value_counts().reset_index()\n",
    "frequency_table.columns = ['Method', 'Absolute Frequency']\n",
    "frequency_table['Relative Frequency (%)'] = (frequency_table['Absolute Frequency'] / num_iterations) * 100\n",
    "\n",
    "print(\"\\nTabla de frecuencias (absoluta y relativa) de los mejores métodos:\")\n",
    "print(frequency_table)\n"
   ]
  }
 ],
 "metadata": {
  "kernelspec": {
   "display_name": "api_class",
   "language": "python",
   "name": "python3"
  },
  "language_info": {
   "codemirror_mode": {
    "name": "ipython",
    "version": 3
   },
   "file_extension": ".py",
   "mimetype": "text/x-python",
   "name": "python",
   "nbconvert_exporter": "python",
   "pygments_lexer": "ipython3",
   "version": "3.10.12"
  }
 },
 "nbformat": 4,
 "nbformat_minor": 2
}
